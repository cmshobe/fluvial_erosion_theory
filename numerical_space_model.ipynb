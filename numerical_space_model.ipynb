{
 "cells": [
  {
   "cell_type": "markdown",
   "metadata": {},
   "source": [
    "## Some ideas for a numerical solution to the SPACE model: Stream Power with Alluvium Conservation and Entrainment\n",
    "Basic equation set so far, for 1D. Sediment flux downstream:\n",
    "\n",
    "$$\\frac{dq_s}{dx} = K_s q S (1-\\exp (-H/H_* ) ) + (1-F_f) K_r q S \\exp (-H/H_*) -Vq_s/q$$\n",
    "\n",
    "Rate of change of alluv thickness:\n",
    "\n",
    "$$(1-\\phi ) \\frac{\\partial H}{\\partial t} = V q_s/q - K_s q S (1-\\exp (-H/H_* ) )$$\n",
    "\n",
    "Rate of change of rock elev:\n",
    "\n",
    "$$\\frac{\\partial R}{\\partial t} = U - K_r q S \\exp (-H/H_* )$$\n",
    "\n",
    "Local analytical solution for sediment flux within a cell:\n",
    "\n",
    "$$q_s = \\left( \\frac{E_s+(1-F_f)E_r}{V/q} \\right) \\left( 1-\\exp (-Vx/q) \\right) + q_{s0} \\exp (-Vx/q)$$\n",
    "\n",
    "Try a little 1D version with some initial slope $S_0$:"
   ]
  },
  {
   "cell_type": "code",
   "execution_count": 32,
   "metadata": {
    "collapsed": false
   },
   "outputs": [
    {
     "data": {
      "text/plain": [
       "array([ 0.04,  0.03,  0.02,  0.01,  0.  ])"
      ]
     },
     "execution_count": 32,
     "metadata": {},
     "output_type": "execute_result"
    }
   ],
   "source": [
    "import numpy as np\n",
    "\n",
    "num_nodes = 5\n",
    "dx = 1.0\n",
    "S0 = 0.01\n",
    "q = 1.0\n",
    "V = 0.001\n",
    "Ff = 0.5\n",
    "Ks = 1.0\n",
    "Kr = 0.001\n",
    "Hstar = 1.0\n",
    "Voverq = V / q\n",
    "dt = 1.0\n",
    "U = 1.0e-6\n",
    "\n",
    "# handy array index\n",
    "upper = np.arange(num_nodes - 1)\n",
    "\n",
    "# arrays for qs, x, H, R, and z\n",
    "qs = np.zeros(num_nodes)\n",
    "qs_in = np.zeros(num_nodes)\n",
    "x = dx * np.arange(0, num_nodes)\n",
    "H = np.zeros(num_nodes)\n",
    "R = np.zeros(num_nodes)\n",
    "z = S0 * (num_nodes - 1) * dx - S0 * x\n",
    "R[:] = z\n",
    "z"
   ]
  },
  {
   "cell_type": "markdown",
   "metadata": {},
   "source": [
    "Calculate $E_s$ and $E_r$ for all nodes:"
   ]
  },
  {
   "cell_type": "code",
   "execution_count": 33,
   "metadata": {
    "collapsed": false
   },
   "outputs": [
    {
     "data": {
      "text/plain": [
       "array([  1.00000000e-05,   1.00000000e-05,   1.00000000e-05,\n",
       "         1.00000000e-05])"
      ]
     },
     "execution_count": 33,
     "metadata": {},
     "output_type": "execute_result"
    }
   ],
   "source": [
    "S = (z[upper] - z[1:]) / dx\n",
    "Es = Ks * q * S * (1.0 - np.exp(-H[upper]/ Hstar))\n",
    "Er = Kr * q * S * np.exp(-H[upper] / Hstar)\n",
    "Er"
   ]
  },
  {
   "cell_type": "markdown",
   "metadata": {},
   "source": [
    "Now loop from upstream to downstream calculating flux:"
   ]
  },
  {
   "cell_type": "code",
   "execution_count": 34,
   "metadata": {
    "collapsed": false
   },
   "outputs": [
    {
     "data": {
      "text/plain": [
       "array([  4.99750083e-06,   9.99000666e-06,   1.49775225e-05,\n",
       "         1.99600533e-05,   0.00000000e+00])"
      ]
     },
     "execution_count": 34,
     "metadata": {},
     "output_type": "execute_result"
    }
   ],
   "source": [
    "for i in range(num_nodes - 1):\n",
    "    qs[i] = ((Es[i] + (1-Ff) * Er[i]) / Voverq) * (1.0 - np.exp(-dx * Voverq)) + qs_in[i] * np.exp(-dx * Voverq)\n",
    "    qs_in[i+1] = qs[i]\n",
    "qs"
   ]
  },
  {
   "cell_type": "markdown",
   "metadata": {},
   "source": [
    "Now do a forward Euler solution for $H$:"
   ]
  },
  {
   "cell_type": "code",
   "execution_count": 35,
   "metadata": {
    "collapsed": false
   },
   "outputs": [
    {
     "data": {
      "text/plain": [
       "array([  4.99750083e-09,   9.99000666e-09,   1.49775225e-08,\n",
       "         1.99600533e-08,   0.00000000e+00])"
      ]
     },
     "execution_count": 35,
     "metadata": {},
     "output_type": "execute_result"
    }
   ],
   "source": [
    "H[upper] += dt * (qs[upper] * Voverq) - Ks * q * S * (1.0 - np.exp(-H[upper] / Hstar))\n",
    "H"
   ]
  },
  {
   "cell_type": "markdown",
   "metadata": {},
   "source": [
    "Now, rock erosion/uplift and elevations:"
   ]
  },
  {
   "cell_type": "code",
   "execution_count": 40,
   "metadata": {
    "collapsed": false
   },
   "outputs": [
    {
     "data": {
      "text/plain": [
       "array([ 0.039955  ,  0.02995501,  0.01995501,  0.00995502,  0.        ])"
      ]
     },
     "execution_count": 40,
     "metadata": {},
     "output_type": "execute_result"
    }
   ],
   "source": [
    "R[upper] += dt * (U - Kr * q * S * np.exp(-H[upper] / Hstar))\n",
    "z = R + H\n",
    "z"
   ]
  },
  {
   "cell_type": "code",
   "execution_count": null,
   "metadata": {
    "collapsed": true
   },
   "outputs": [],
   "source": []
  }
 ],
 "metadata": {
  "kernelspec": {
   "display_name": "Python 2",
   "language": "python",
   "name": "python2"
  },
  "language_info": {
   "codemirror_mode": {
    "name": "ipython",
    "version": 2
   },
   "file_extension": ".py",
   "mimetype": "text/x-python",
   "name": "python",
   "nbconvert_exporter": "python",
   "pygments_lexer": "ipython2",
   "version": "2.7.11"
  }
 },
 "nbformat": 4,
 "nbformat_minor": 0
}
