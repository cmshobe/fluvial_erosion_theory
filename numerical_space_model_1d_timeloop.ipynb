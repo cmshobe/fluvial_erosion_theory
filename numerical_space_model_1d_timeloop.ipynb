{
 "cells": [
  {
   "cell_type": "markdown",
   "metadata": {},
   "source": [
    "## Some ideas for a numerical solution to the SPACE model: Stream Power with Alluvium Conservation and Entrainment\n",
    "Running a time loop, seeing if things are realistic.\n",
    "Basic equation set so far, for 1D. Sediment flux downstream:\n",
    "\n",
    "$$\\frac{dq_s}{dx} = K_s q S (1-\\exp (-H/H_* ) ) + (1-F_f) K_r q S \\exp (-H/H_*) -Vq_s/q$$\n",
    "\n",
    "Rate of change of alluv thickness:\n",
    "\n",
    "$$(1-\\phi ) \\frac{\\partial H}{\\partial t} = V q_s/q - K_s q S (1-\\exp (-H/H_* ) )$$\n",
    "\n",
    "Rate of change of rock elev:\n",
    "\n",
    "$$\\frac{\\partial R}{\\partial t} = U - K_r q S \\exp (-H/H_* )$$\n",
    "\n",
    "Local analytical solution for sediment flux within a cell:\n",
    "\n",
    "$$q_s = \\left( \\frac{E_s+(1-F_f)E_r}{V/q} \\right) \\left( 1-\\exp (-Vx/q) \\right) + q_{s0} \\exp (-Vx/q)$$\n",
    "\n",
    "Try a little 1D version with some initial slope $S_0$:"
   ]
  },
  {
   "cell_type": "markdown",
   "metadata": {},
   "source": [
    "First, a version with 100-second time steps.\n",
    "\n",
    " - Discharge does not vary downstream\n",
    " - time units are seconds\n",
    " - distance units are meters\n",
    " - Right now, the last point in each profile is 0. Need to change that."
   ]
  },
  {
   "cell_type": "code",
   "execution_count": 456,
   "metadata": {
    "collapsed": false
   },
   "outputs": [],
   "source": [
    "import numpy as np\n",
    "num_nodes = 50\n",
    "dx = 1.0\n",
    "S0 = 0.01\n",
    "q = 1.0 # In this version, discharge stays constant downstream\n",
    "V = 0.001 # settling velocity\n",
    "Ff = 0.5\n",
    "Ks = 1.0 # sed erodibility. not necessarily realistic\n",
    "Kr = 0.001\n",
    "Hstar = 1.0 # sed thickness req'd for full entrainment potential. Not necessarily realistic.\n",
    "Voverq = V/q # this can be a constant because q doesn't change downstream in this version\n",
    "dt = 100.0 # seconds\n",
    "total_time = 5000000.0\n",
    "num_time_steps = int(total_time / dt)\n",
    "U = 1.0e-7 # 1.0e-7 is still ~3m/year\n",
    "\n",
    "# array index\n",
    "upper = np.arange(num_nodes-1)\n",
    "\n",
    "# arrays\n",
    "qs = np.zeros(num_nodes)\n",
    "qs_in = np.zeros(num_nodes)\n",
    "x = dx * np.arange(0, num_nodes)\n",
    "H = np.zeros(num_nodes)\n",
    "R = np.zeros(num_nodes)\n",
    "z = (S0 * (num_nodes - 1) * dx - S0 * x)\n",
    "R[:] = z"
   ]
  },
  {
   "cell_type": "markdown",
   "metadata": {},
   "source": [
    "Time loop with a downstream distance loop inside (not ideal)\n",
    "\n",
    "Time loop:\n",
    "\n",
    " - Each time step, first calculate S, Es and Er (functions of H)\n",
    " - Then, loop through the nodes from upstream to downstream calculating sediment flux.\n",
    " - Do a backward Euler solution for H\n",
    " - And rock uplift, R\n",
    " - And add R and H together to get elevation"
   ]
  },
  {
   "cell_type": "code",
   "execution_count": 457,
   "metadata": {
    "collapsed": false
   },
   "outputs": [],
   "source": [
    "for i in range(num_time_steps):\n",
    "    S = (z[upper] - z[1:]) / dx\n",
    "    \n",
    "    Es = Ks * q * S * (1.0 - np.exp(-H[upper] / Hstar))\n",
    "    \n",
    "    Er = Kr * q * S * np.exp(-H[upper] / Hstar)\n",
    "    \n",
    "    for j in range(num_nodes - 1):\n",
    "        qs[j] = (((Es[j]) + (1-Ff) * Er[j]) / Voverq) * (1.0 - np.exp(-dx * Voverq)) + (qs_in[j] * np.exp(-dx * Voverq))\n",
    "        #qs[num_nodes - 1] = \n",
    "        qs_in[j+1] = qs[j]\n",
    "    \n",
    "    H[upper] += dt * (qs[upper] * Voverq) - Ks * q * S *(1.0 - np.exp(-H[upper]/Hstar))\n",
    "    #H[num_nodes - 1] += \n",
    "    \n",
    "    R[upper] += dt * (U - Kr * q * S * (np.exp(-H[upper] / Hstar)))\n",
    "    #R[num_nodes - 1] +=\n",
    "    \n",
    "    z = R + H "
   ]
  },
  {
   "cell_type": "code",
   "execution_count": 458,
   "metadata": {
    "collapsed": false
   },
   "outputs": [
    {
     "data": {
      "text/plain": [
       "<matplotlib.text.Text at 0x12daef690>"
      ]
     },
     "execution_count": 458,
     "metadata": {},
     "output_type": "execute_result"
    },
    {
     "data": {
      "image/png": "[encoded data removed]",
      "text/plain": [
       "<matplotlib.figure.Figure at 0x12d930c10>"
      ]
     },
     "metadata": {},
     "output_type": "display_data"
    }
   ],
   "source": [
    "import matplotlib.pyplot as plt\n",
    "%matplotlib inline\n",
    "plt.plot(H[:-1])\n",
    "plt.title('Alluvium thickness')"
   ]
  },
  {
   "cell_type": "code",
   "execution_count": 459,
   "metadata": {
    "collapsed": false
   },
   "outputs": [
    {
     "data": {
      "text/plain": [
       "<matplotlib.text.Text at 0x12de20510>"
      ]
     },
     "execution_count": 459,
     "metadata": {},
     "output_type": "execute_result"
    },
    {
     "data": {
      "image/png": "[encoded data removed]",
      "text/plain": [
       "<matplotlib.figure.Figure at 0x12d930810>"
      ]
     },
     "metadata": {},
     "output_type": "display_data"
    }
   ],
   "source": [
    "plt.plot(z)\n",
    "plt.title('Bed elevation')"
   ]
  },
  {
   "cell_type": "code",
   "execution_count": 460,
   "metadata": {
    "collapsed": false
   },
   "outputs": [
    {
     "data": {
      "text/plain": [
       "<matplotlib.text.Text at 0x12df79090>"
      ]
     },
     "execution_count": 460,
     "metadata": {},
     "output_type": "execute_result"
    },
    {
     "data": {
      "image/png": "[encoded data removed]",
      "text/plain": [
       "<matplotlib.figure.Figure at 0x12de173d0>"
      ]
     },
     "metadata": {},
     "output_type": "display_data"
    }
   ],
   "source": [
    "plt.plot(R[:-1])\n",
    "plt.title('Elevation of top of bedrock')"
   ]
  },
  {
   "cell_type": "markdown",
   "metadata": {},
   "source": [
    "Now, a version with 10-second time steps. The patterns are quite different."
   ]
  },
  {
   "cell_type": "code",
   "execution_count": 473,
   "metadata": {
    "collapsed": true
   },
   "outputs": [],
   "source": [
    "# reset stuff, otherwise the code below uses H, z etc from previous run\n",
    "\n",
    "num_nodes = 50\n",
    "dx = 1.0\n",
    "S0 = 0.01\n",
    "q = 1.0 # In this version, discharge stays constant downstream\n",
    "V = 0.001 # settling velocity\n",
    "Ff = 0.5\n",
    "Ks = 1.0 # sed erodibility. not necessarily realistic\n",
    "Kr = 0.001\n",
    "Hstar = 1.0 # sed thickness req'd for full entrainment potential. Not necessarily realistic.\n",
    "Voverq = V/q # this can be a constant because q doesn't change downstream in this version\n",
    "dt = 10.0 # seconds\n",
    "total_time = 5000000.0\n",
    "num_time_steps = int(total_time / dt)\n",
    "U = 1.0e-7 # 1.0e-7 is still ~3m/year\n",
    "\n",
    "# array index\n",
    "upper = np.arange(num_nodes-1)\n",
    "\n",
    "# arrays\n",
    "qs = np.zeros(num_nodes)\n",
    "qs_in = np.zeros(num_nodes)\n",
    "x = dx * np.arange(0, num_nodes)\n",
    "H = np.zeros(num_nodes)\n",
    "R = np.zeros(num_nodes)\n",
    "z = (S0 * (num_nodes - 1) * dx - S0 * x)\n",
    "R[:] = z\n",
    "\n",
    "\n",
    "for i in range(num_time_steps):\n",
    "    S = (z[upper] - z[1:]) / dx\n",
    "    \n",
    "    Es = Ks * q * S * (1.0 - np.exp(-H[upper] / Hstar))\n",
    "    \n",
    "    Er = Kr * q * S * np.exp(-H[upper] / Hstar)\n",
    "    \n",
    "    for j in range(num_nodes - 1):\n",
    "        qs[j] = (((Es[j]) + (1-Ff) * Er[j]) / Voverq) * (1.0 - np.exp(-dx * Voverq)) + (qs_in[j] * np.exp(-dx * Voverq))\n",
    "        #qs[num_nodes - 1] = \n",
    "        qs_in[j+1] = qs[j]\n",
    "    \n",
    "    H[upper] += dt * (qs[upper] * Voverq) - Ks * q * S *(1.0 - np.exp(-H[upper]/Hstar))\n",
    "    #H[num_nodes - 1] += \n",
    "    \n",
    "    R[upper] += dt * (U - Kr * q * S * (np.exp(-H[upper] / Hstar)))\n",
    "    #R[num_nodes - 1] +=\n",
    "    \n",
    "    z = R + H "
   ]
  },
  {
   "cell_type": "code",
   "execution_count": 474,
   "metadata": {
    "collapsed": false
   },
   "outputs": [
    {
     "data": {
      "text/plain": [
       "<matplotlib.text.Text at 0x12f191890>"
      ]
     },
     "execution_count": 474,
     "metadata": {},
     "output_type": "execute_result"
    },
    {
     "data": {
      "image/png": "[encoded data removed]",
      "text/plain": [
       "<matplotlib.figure.Figure at 0x12e9f8510>"
      ]
     },
     "metadata": {},
     "output_type": "display_data"
    }
   ],
   "source": [
    "plt.plot(H[:-1])\n",
    "plt.title('Alluvium thickness')"
   ]
  },
  {
   "cell_type": "code",
   "execution_count": 475,
   "metadata": {
    "collapsed": false
   },
   "outputs": [
    {
     "data": {
      "text/plain": [
       "<matplotlib.text.Text at 0x12f307090>"
      ]
     },
     "execution_count": 475,
     "metadata": {},
     "output_type": "execute_result"
    },
    {
     "data": {
      "image/png": "[encoded data removed]",
      "text/plain": [
       "<matplotlib.figure.Figure at 0x12f17e990>"
      ]
     },
     "metadata": {},
     "output_type": "display_data"
    }
   ],
   "source": [
    "plt.plot(z)\n",
    "plt.title('Bed elevation')"
   ]
  },
  {
   "cell_type": "code",
   "execution_count": 476,
   "metadata": {
    "collapsed": false
   },
   "outputs": [
    {
     "data": {
      "text/plain": [
       "<matplotlib.text.Text at 0x12b4ffed0>"
      ]
     },
     "execution_count": 476,
     "metadata": {},
     "output_type": "execute_result"
    },
    {
     "data": {
      "image/png": "[encoded data removed]",
      "text/plain": [
       "<matplotlib.figure.Figure at 0x12f2f5d90>"
      ]
     },
     "metadata": {},
     "output_type": "display_data"
    }
   ],
   "source": [
    "plt.plot(R[:-1])\n",
    "plt.title('Elevation of top of bedrock')"
   ]
  },
  {
   "cell_type": "markdown",
   "metadata": {},
   "source": [
    "Now a version with 1000-second time steps. This is also very different."
   ]
  },
  {
   "cell_type": "code",
   "execution_count": 477,
   "metadata": {
    "collapsed": true
   },
   "outputs": [],
   "source": [
    "# reset stuff, otherwise the code below uses H, z etc from previous run\n",
    "\n",
    "num_nodes = 50\n",
    "dx = 1.0\n",
    "S0 = 0.01\n",
    "q = 1.0 # In this version, discharge stays constant downstream\n",
    "V = 0.001 # settling velocity\n",
    "Ff = 0.5\n",
    "Ks = 1.0 # sed erodibility. not necessarily realistic\n",
    "Kr = 0.001\n",
    "Hstar = 1.0 # sed thickness req'd for full entrainment potential. Not necessarily realistic.\n",
    "Voverq = V/q # this can be a constant because q doesn't change downstream in this version\n",
    "dt = 1000.0 # seconds\n",
    "total_time = 5000000.0\n",
    "num_time_steps = int(total_time / dt)\n",
    "U = 1.0e-7 # 1.0e-7 is still ~3m/year\n",
    "\n",
    "# array index\n",
    "upper = np.arange(num_nodes-1)\n",
    "\n",
    "# arrays\n",
    "qs = np.zeros(num_nodes)\n",
    "qs_in = np.zeros(num_nodes)\n",
    "x = dx * np.arange(0, num_nodes)\n",
    "H = np.zeros(num_nodes)\n",
    "R = np.zeros(num_nodes)\n",
    "z = (S0 * (num_nodes - 1) * dx - S0 * x)\n",
    "R[:] = z\n",
    "\n",
    "\n",
    "\n",
    "for i in range(num_time_steps):\n",
    "    S = (z[upper] - z[1:]) / dx\n",
    "    \n",
    "    Es = Ks * q * S * (1.0 - np.exp(-H[upper] / Hstar))\n",
    "    \n",
    "    Er = Kr * q * S * np.exp(-H[upper] / Hstar)\n",
    "    \n",
    "    for j in range(num_nodes - 1):\n",
    "        qs[j] = (((Es[j]) + (1-Ff) * Er[j]) / Voverq) * (1.0 - np.exp(-dx * Voverq)) + (qs_in[j] * np.exp(-dx * Voverq))\n",
    "        #qs[num_nodes - 1] = \n",
    "        qs_in[j+1] = qs[j]\n",
    "    \n",
    "    H[upper] += dt * (qs[upper] * Voverq) - Ks * q * S *(1.0 - np.exp(-H[upper]/Hstar))\n",
    "    #H[num_nodes - 1] += \n",
    "    \n",
    "    R[upper] += dt * (U - Kr * q * S * (np.exp(-H[upper] / Hstar)))\n",
    "    #R[num_nodes - 1] +=\n",
    "    \n",
    "    z = R + H "
   ]
  },
  {
   "cell_type": "code",
   "execution_count": 478,
   "metadata": {
    "collapsed": false
   },
   "outputs": [
    {
     "data": {
      "text/plain": [
       "<matplotlib.text.Text at 0x12b09c1d0>"
      ]
     },
     "execution_count": 478,
     "metadata": {},
     "output_type": "execute_result"
    },
    {
     "data": {
      "image/png": "[encoded data removed]",
      "text/plain": [
       "<matplotlib.figure.Figure at 0x12b6ba210>"
      ]
     },
     "metadata": {},
     "output_type": "display_data"
    }
   ],
   "source": [
    "plt.plot(H[:-1])\n",
    "plt.title('Alluvium thickness')"
   ]
  },
  {
   "cell_type": "code",
   "execution_count": 479,
   "metadata": {
    "collapsed": false
   },
   "outputs": [
    {
     "data": {
      "text/plain": [
       "<matplotlib.text.Text at 0x12f6a8d10>"
      ]
     },
     "execution_count": 479,
     "metadata": {},
     "output_type": "execute_result"
    },
    {
     "data": {
      "image/png": "[encoded data removed]",
      "text/plain": [
       "<matplotlib.figure.Figure at 0x12efba610>"
      ]
     },
     "metadata": {},
     "output_type": "display_data"
    }
   ],
   "source": [
    "plt.plot(z)\n",
    "plt.title('Bed elevation')"
   ]
  },
  {
   "cell_type": "code",
   "execution_count": 480,
   "metadata": {
    "collapsed": false
   },
   "outputs": [
    {
     "data": {
      "text/plain": [
       "<matplotlib.text.Text at 0x12f7ae1d0>"
      ]
     },
     "execution_count": 480,
     "metadata": {},
     "output_type": "execute_result"
    },
    {
     "data": {
      "image/png": "[encoded data removed]",
      "text/plain": [
       "<matplotlib.figure.Figure at 0x12f767390>"
      ]
     },
     "metadata": {},
     "output_type": "display_data"
    }
   ],
   "source": [
    "plt.plot(R[:-1])\n",
    "plt.title('Elevation of top of bedrock')"
   ]
  },
  {
   "cell_type": "code",
   "execution_count": null,
   "metadata": {
    "collapsed": true
   },
   "outputs": [],
   "source": []
  }
 ],
 "metadata": {
  "kernelspec": {
   "display_name": "Python 2",
   "language": "python",
   "name": "python2"
  },
  "language_info": {
   "codemirror_mode": {
    "name": "ipython",
    "version": 2
   },
   "file_extension": ".py",
   "mimetype": "text/x-python",
   "name": "python",
   "nbconvert_exporter": "python",
   "pygments_lexer": "ipython2",
   "version": "2.7.11"
  }
 },
 "nbformat": 4,
 "nbformat_minor": 0
}
