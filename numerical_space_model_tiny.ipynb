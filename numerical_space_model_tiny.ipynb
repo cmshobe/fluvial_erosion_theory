{
 "cells": [
  {
   "cell_type": "markdown",
   "metadata": {},
   "source": [
    "## Some ideas for a numerical solution to the SPACE model: Stream Power with Alluvium Conservation and Entrainment\n",
    "\n",
    "### THIS IS AN EVEN TINIER VERSION...\n",
    "\n",
    "Basic equation set so far, for 1D. Sediment flux downstream:\n",
    "\n",
    "$$\\frac{dq_s}{dx} = K_s q S (1-\\exp (-H/H_* ) ) + (1-F_f) K_r q S \\exp (-H/H_*) -Vq_s/q$$\n",
    "\n",
    "Rate of change of alluv thickness:\n",
    "\n",
    "$$(1-\\phi ) \\frac{\\partial H}{\\partial t} = V q_s/q - K_s q S (1-\\exp (-H/H_* ) )$$\n",
    "\n",
    "Rate of change of rock elev:\n",
    "\n",
    "$$\\frac{\\partial R}{\\partial t} = U - K_r q S \\exp (-H/H_* )$$\n",
    "\n",
    "Local analytical solution for sediment flux within a cell:\n",
    "\n",
    "$$q_s = \\left( \\frac{E_s+(1-F_f)E_r}{V/q} \\right) \\left( 1-\\exp (-Vx/q) \\right) + q_{s0} \\exp (-Vx/q)$$\n",
    "\n",
    "Try a little 1D version with some initial slope $S_0$:"
   ]
  },
  {
   "cell_type": "code",
   "execution_count": 88,
   "metadata": {
    "collapsed": false
   },
   "outputs": [
    {
     "data": {
      "text/plain": [
       "array([ 0.01,  0.  ])"
      ]
     },
     "execution_count": 88,
     "metadata": {},
     "output_type": "execute_result"
    }
   ],
   "source": [
    "import numpy as np\n",
    "\n",
    "num_nodes = 2\n",
    "dx = 1.0\n",
    "S0 = 0.01\n",
    "q = 1.0\n",
    "V = 0.001\n",
    "Ff = 0.5\n",
    "Ks = 1.0\n",
    "Kr = 0.001\n",
    "Hstar = 1.0\n",
    "Voverq = V / q\n",
    "dt = 20.0\n",
    "U = 1.0e-6\n",
    "\n",
    "# handy array index\n",
    "upper = np.arange(num_nodes - 1)\n",
    "\n",
    "# arrays for qs, x, H, R, and z\n",
    "qs = np.zeros(num_nodes)\n",
    "qs_in = np.zeros(num_nodes)\n",
    "x = dx * np.arange(0, num_nodes)\n",
    "H = np.zeros(num_nodes)\n",
    "R = np.zeros(num_nodes)\n",
    "z = S0 * (num_nodes - 1) * dx - S0 * x\n",
    "R[:] = z\n",
    "z"
   ]
  },
  {
   "cell_type": "markdown",
   "metadata": {},
   "source": [
    "Calculate $E_s$ and $E_r$ for all nodes:"
   ]
  },
  {
   "cell_type": "code",
   "execution_count": 89,
   "metadata": {
    "collapsed": false
   },
   "outputs": [
    {
     "data": {
      "text/plain": [
       "array([  1.00000000e-05])"
      ]
     },
     "execution_count": 89,
     "metadata": {},
     "output_type": "execute_result"
    }
   ],
   "source": [
    "S = (z[upper] - z[1:]) / dx\n",
    "Es = Ks * q * S * (1.0 - np.exp(-H[upper]/ Hstar))\n",
    "Er = Kr * q * S * np.exp(-H[upper] / Hstar)\n",
    "Er"
   ]
  },
  {
   "cell_type": "markdown",
   "metadata": {},
   "source": [
    "Now loop from upstream to downstream calculating flux:"
   ]
  },
  {
   "cell_type": "code",
   "execution_count": 90,
   "metadata": {
    "collapsed": false
   },
   "outputs": [
    {
     "data": {
      "text/plain": [
       "array([  4.99750083e-06,   0.00000000e+00])"
      ]
     },
     "execution_count": 90,
     "metadata": {},
     "output_type": "execute_result"
    }
   ],
   "source": [
    "for i in range(num_nodes - 1):\n",
    "    qs[i] = ((Es[i] + (1-Ff) * Er[i]) / Voverq) * (1.0 - np.exp(-dx * Voverq)) + qs_in[i] * np.exp(-dx * Voverq)\n",
    "    qs_in[i+1] = qs[i]\n",
    "qs"
   ]
  },
  {
   "cell_type": "markdown",
   "metadata": {},
   "source": [
    "Now do a forward Euler solution for $H$:"
   ]
  },
  {
   "cell_type": "code",
   "execution_count": 91,
   "metadata": {
    "collapsed": false
   },
   "outputs": [
    {
     "name": "stdout",
     "output_type": "stream",
     "text": [
      "deprate[  4.99750083e-09]\n",
      "Es[ 0.]\n",
      "dHdt[  4.99750083e-09]\n"
     ]
    },
    {
     "data": {
      "text/plain": [
       "array([  9.99500167e-08,   0.00000000e+00])"
      ]
     },
     "execution_count": 91,
     "metadata": {},
     "output_type": "execute_result"
    }
   ],
   "source": [
    "deprate = qs[upper] * Voverq\n",
    "print('deprate' + str(deprate))\n",
    "Es = Ks * q * S * (1.0 - np.exp(-H[upper] / Hstar))\n",
    "print('Es' + str(Es))\n",
    "dHdt = deprate - Es\n",
    "print('dHdt' + str(dHdt))\n",
    "#H[upper] += dt * ((qs[upper] * Voverq) - Ks * q * S * (1.0 - np.exp(-H[upper] / Hstar))\n",
    "H[upper] += dHdt * dt\n",
    "H"
   ]
  },
  {
   "cell_type": "markdown",
   "metadata": {},
   "source": [
    "Now, rock erosion/uplift and elevations:"
   ]
  },
  {
   "cell_type": "code",
   "execution_count": 92,
   "metadata": {
    "collapsed": false
   },
   "outputs": [
    {
     "data": {
      "text/plain": [
       "array([ 0.0098201,  0.       ])"
      ]
     },
     "execution_count": 92,
     "metadata": {},
     "output_type": "execute_result"
    }
   ],
   "source": [
    "R[upper] += dt * (U - Kr * q * S * np.exp(-H[upper] / Hstar))\n",
    "z = R + H\n",
    "z"
   ]
  },
  {
   "cell_type": "markdown",
   "metadata": {},
   "source": [
    "Now loop this:"
   ]
  },
  {
   "cell_type": "code",
   "execution_count": 93,
   "metadata": {
    "collapsed": false
   },
   "outputs": [
    {
     "name": "stdout",
     "output_type": "stream",
     "text": [
      "qs: [  5.00250083e-06   0.00000000e+00]\n",
      "deprate[  5.00250083e-09]\n",
      "Es[  5.00250083e-09]\n",
      "dHdt[  1.07769226e-18]\n",
      "H\n",
      "[  5.00250208e-07   0.00000000e+00]\n",
      "R\n",
      "[-0.00817999  0.        ]\n",
      "z\n",
      "[-0.00817949  0.        ]\n"
     ]
    }
   ],
   "source": [
    "tt = 2000.0\n",
    "nt = int(tt/dt)\n",
    "Ht = np.zeros(nt)\n",
    "for t in range(nt):\n",
    "    for i in range(num_nodes - 1):\n",
    "        qs[i] = ((Es[i] + (1-Ff) * Er[i]) / Voverq) * (1.0 - np.exp(-dx * Voverq)) + qs_in[i] * np.exp(-dx * Voverq)\n",
    "        qs_in[i+1] = qs[i]\n",
    "    deprate = qs[upper] * Voverq\n",
    "    Es = Ks * q * S * (1.0 - np.exp(-H[upper] / Hstar))\n",
    "    dHdt = deprate - Es\n",
    "    #H[upper] += dt * ((qs[upper] * Voverq) - Ks * q * S * (1.0 - np.exp(-H[upper] / Hstar))\n",
    "    H[upper] += dHdt * dt\n",
    "    R[upper] += dt * (U - Kr * q * S * np.exp(-H[upper] / Hstar))\n",
    "    z = R + H\n",
    "    Ht[t] = H[0]\n",
    "print('qs: ' + str(qs))\n",
    "print('deprate' + str(deprate))\n",
    "print('Es' + str(Es))\n",
    "print('dHdt' + str(dHdt))\n",
    "print('H')\n",
    "print(H)\n",
    "print('R')\n",
    "print(R)\n",
    "print('z')\n",
    "print(z)"
   ]
  },
  {
   "cell_type": "code",
   "execution_count": 94,
   "metadata": {
    "collapsed": false
   },
   "outputs": [
    {
     "data": {
      "text/plain": [
       "5.002502083989232e-07"
      ]
     },
     "execution_count": 94,
     "metadata": {},
     "output_type": "execute_result"
    },
    {
     "data": {
      "image/png": "[encoded data removed]",
      "text/plain": [
       "<matplotlib.figure.Figure at 0x1109b44d0>"
      ]
     },
     "metadata": {},
     "output_type": "display_data"
    }
   ],
   "source": [
    "import matplotlib.pyplot as plt\n",
    "%matplotlib inline\n",
    "plt.plot(dt * np.arange(nt), Ht, '.-')\n",
    "Ht[nt-1]"
   ]
  },
  {
   "cell_type": "code",
   "execution_count": null,
   "metadata": {
    "collapsed": true
   },
   "outputs": [],
   "source": []
  },
  {
   "cell_type": "code",
   "execution_count": null,
   "metadata": {
    "collapsed": true
   },
   "outputs": [],
   "source": []
  }
 ],
 "metadata": {
  "kernelspec": {
   "display_name": "Python 2",
   "language": "python",
   "name": "python2"
  },
  "language_info": {
   "codemirror_mode": {
    "name": "ipython",
    "version": 2
   },
   "file_extension": ".py",
   "mimetype": "text/x-python",
   "name": "python",
   "nbconvert_exporter": "python",
   "pygments_lexer": "ipython2",
   "version": "2.7.11"
  }
 },
 "nbformat": 4,
 "nbformat_minor": 0
}
